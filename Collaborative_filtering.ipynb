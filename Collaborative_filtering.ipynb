{
 "cells": [
  {
   "attachments": {},
   "cell_type": "markdown",
   "metadata": {},
   "source": [
    "## Collaborative Filtering"
   ]
  },
  {
   "cell_type": "code",
   "execution_count": 31,
   "metadata": {},
   "outputs": [],
   "source": [
    "import pandas as pd\n",
    "import numpy as np\n",
    "import scipy\n",
    "import math\n",
    "import scipy.stats\n",
    "from sklearn.metrics import mean_squared_error\n",
    "import textract\n",
    "import os\n",
    "import pickle\n",
    "from pathlib import Path\n",
    "import numpy as np\n",
    "import random\n",
    "import pandas as pd\n",
    "from itertools import combinations\n",
    "from datetime import datetime\n",
    "root = Path(\".\")"
   ]
  },
  {
   "attachments": {},
   "cell_type": "markdown",
   "metadata": {},
   "source": [
    "### Reading the movie-rating dataset and loading the item similarity matrix"
   ]
  },
  {
   "cell_type": "code",
   "execution_count": 32,
   "metadata": {},
   "outputs": [],
   "source": [
    "my_path = root / \"Pickled_files\" / \"item_similarity_matrix\"\n",
    "dbfile = open(my_path, 'rb')     \n",
    "item_sim = pickle.load(dbfile)\n",
    "dbfile.close()"
   ]
  },
  {
   "cell_type": "code",
   "execution_count": 33,
   "metadata": {},
   "outputs": [
    {
     "name": "stderr",
     "output_type": "stream",
     "text": [
      "C:\\Users\\ashwi\\AppData\\Local\\Temp\\ipykernel_11684\\1128856203.py:1: ParserWarning: Falling back to the 'python' engine because the 'c' engine does not support regex separators (separators > 1 char and different from '\\s+' are interpreted as regex); you can avoid this warning by specifying engine='python'.\n",
      "  rating_data = pd.read_csv('ml-1m/ratings.dat', header=None, sep='::')\n"
     ]
    }
   ],
   "source": [
    "rating_data = pd.read_csv('ml-1m/ratings.dat', header=None, sep='::')\n",
    "rating_data.columns = ['UserID', 'ItemID', 'Rating', 'Timestamp']\n",
    "rating_data.drop(columns=['Timestamp'], axis=1, inplace=True)"
   ]
  },
  {
   "cell_type": "code",
   "execution_count": 34,
   "metadata": {},
   "outputs": [
    {
     "data": {
      "text/html": [
       "<div>\n",
       "<style scoped>\n",
       "    .dataframe tbody tr th:only-of-type {\n",
       "        vertical-align: middle;\n",
       "    }\n",
       "\n",
       "    .dataframe tbody tr th {\n",
       "        vertical-align: top;\n",
       "    }\n",
       "\n",
       "    .dataframe thead th {\n",
       "        text-align: right;\n",
       "    }\n",
       "</style>\n",
       "<table border=\"1\" class=\"dataframe\">\n",
       "  <thead>\n",
       "    <tr style=\"text-align: right;\">\n",
       "      <th></th>\n",
       "      <th>UserID</th>\n",
       "      <th>ItemID</th>\n",
       "      <th>Rating</th>\n",
       "    </tr>\n",
       "  </thead>\n",
       "  <tbody>\n",
       "    <tr>\n",
       "      <th>0</th>\n",
       "      <td>1</td>\n",
       "      <td>1193</td>\n",
       "      <td>5</td>\n",
       "    </tr>\n",
       "    <tr>\n",
       "      <th>1</th>\n",
       "      <td>1</td>\n",
       "      <td>661</td>\n",
       "      <td>3</td>\n",
       "    </tr>\n",
       "    <tr>\n",
       "      <th>2</th>\n",
       "      <td>1</td>\n",
       "      <td>914</td>\n",
       "      <td>3</td>\n",
       "    </tr>\n",
       "    <tr>\n",
       "      <th>3</th>\n",
       "      <td>1</td>\n",
       "      <td>3408</td>\n",
       "      <td>4</td>\n",
       "    </tr>\n",
       "    <tr>\n",
       "      <th>4</th>\n",
       "      <td>1</td>\n",
       "      <td>2355</td>\n",
       "      <td>5</td>\n",
       "    </tr>\n",
       "    <tr>\n",
       "      <th>...</th>\n",
       "      <td>...</td>\n",
       "      <td>...</td>\n",
       "      <td>...</td>\n",
       "    </tr>\n",
       "    <tr>\n",
       "      <th>1000204</th>\n",
       "      <td>6040</td>\n",
       "      <td>1091</td>\n",
       "      <td>1</td>\n",
       "    </tr>\n",
       "    <tr>\n",
       "      <th>1000205</th>\n",
       "      <td>6040</td>\n",
       "      <td>1094</td>\n",
       "      <td>5</td>\n",
       "    </tr>\n",
       "    <tr>\n",
       "      <th>1000206</th>\n",
       "      <td>6040</td>\n",
       "      <td>562</td>\n",
       "      <td>5</td>\n",
       "    </tr>\n",
       "    <tr>\n",
       "      <th>1000207</th>\n",
       "      <td>6040</td>\n",
       "      <td>1096</td>\n",
       "      <td>4</td>\n",
       "    </tr>\n",
       "    <tr>\n",
       "      <th>1000208</th>\n",
       "      <td>6040</td>\n",
       "      <td>1097</td>\n",
       "      <td>4</td>\n",
       "    </tr>\n",
       "  </tbody>\n",
       "</table>\n",
       "<p>1000209 rows × 3 columns</p>\n",
       "</div>"
      ],
      "text/plain": [
       "         UserID  ItemID  Rating\n",
       "0             1    1193       5\n",
       "1             1     661       3\n",
       "2             1     914       3\n",
       "3             1    3408       4\n",
       "4             1    2355       5\n",
       "...         ...     ...     ...\n",
       "1000204    6040    1091       1\n",
       "1000205    6040    1094       5\n",
       "1000206    6040     562       5\n",
       "1000207    6040    1096       4\n",
       "1000208    6040    1097       4\n",
       "\n",
       "[1000209 rows x 3 columns]"
      ]
     },
     "execution_count": 34,
     "metadata": {},
     "output_type": "execute_result"
    }
   ],
   "source": [
    "rating_data"
   ]
  },
  {
   "cell_type": "code",
   "execution_count": 35,
   "metadata": {},
   "outputs": [
    {
     "data": {
      "text/plain": [
       "(3953, 6041)"
      ]
     },
     "execution_count": 35,
     "metadata": {},
     "output_type": "execute_result"
    }
   ],
   "source": [
    "item_cnt = max(rating_data['ItemID']) + 1\n",
    "users_cnt = max(rating_data['UserID']) + 1\n",
    "item_cnt, users_cnt"
   ]
  },
  {
   "cell_type": "code",
   "execution_count": 36,
   "metadata": {},
   "outputs": [
    {
     "data": {
      "text/plain": [
       "(1000209, 3)"
      ]
     },
     "execution_count": 36,
     "metadata": {},
     "output_type": "execute_result"
    }
   ],
   "source": [
    "rating_data.shape"
   ]
  },
  {
   "attachments": {},
   "cell_type": "markdown",
   "metadata": {},
   "source": [
    "### Splitting the dataset into test and train"
   ]
  },
  {
   "cell_type": "code",
   "execution_count": 37,
   "metadata": {},
   "outputs": [],
   "source": [
    "rating_train = rating_data.sample(frac=0.8, random_state=200)\n",
    "rating_test = rating_data.drop(rating_train.index)"
   ]
  },
  {
   "attachments": {},
   "cell_type": "markdown",
   "metadata": {},
   "source": [
    "### Populating the rating matrix "
   ]
  },
  {
   "cell_type": "code",
   "execution_count": 38,
   "metadata": {},
   "outputs": [
    {
     "data": {
      "text/plain": [
       "(6041, 3953)"
      ]
     },
     "execution_count": 38,
     "metadata": {},
     "output_type": "execute_result"
    }
   ],
   "source": [
    "matrix = np.zeros(shape=(users_cnt, item_cnt))\n",
    "matrix.shape"
   ]
  },
  {
   "cell_type": "code",
   "execution_count": 39,
   "metadata": {},
   "outputs": [
    {
     "data": {
      "text/plain": [
       "array([[0., 0., 0., ..., 0., 0., 0.],\n",
       "       [0., 0., 0., ..., 0., 0., 0.],\n",
       "       [0., 0., 0., ..., 0., 0., 0.],\n",
       "       ...,\n",
       "       [0., 0., 0., ..., 0., 0., 0.],\n",
       "       [0., 0., 0., ..., 0., 0., 0.],\n",
       "       [0., 3., 0., ..., 0., 0., 0.]])"
      ]
     },
     "execution_count": 39,
     "metadata": {},
     "output_type": "execute_result"
    }
   ],
   "source": [
    "for row in rating_train.itertuples():\n",
    "    matrix[row.UserID][row.ItemID] = row.Rating\n",
    "matrix"
   ]
  },
  {
   "cell_type": "code",
   "execution_count": 40,
   "metadata": {},
   "outputs": [],
   "source": [
    "colab_baseline = matrix.copy()"
   ]
  },
  {
   "cell_type": "code",
   "execution_count": 41,
   "metadata": {},
   "outputs": [
    {
     "data": {
      "text/plain": [
       "(3953, 3953)"
      ]
     },
     "execution_count": 41,
     "metadata": {},
     "output_type": "execute_result"
    }
   ],
   "source": [
    "item_sim.shape"
   ]
  },
  {
   "attachments": {},
   "cell_type": "markdown",
   "metadata": {},
   "source": [
    "### Calculating User, Item and Global Average for baseline prediction"
   ]
  },
  {
   "cell_type": "code",
   "execution_count": 42,
   "metadata": {},
   "outputs": [],
   "source": [
    "algo_stats = list()\n",
    "actual_by_pred = dict()\n",
    "global_avg , cnt = 0 , 0\n",
    "item_avg = [0] * item_cnt\n",
    "user_avg = [0] * users_cnt\n",
    "item_sz = [0] * item_cnt\n",
    "user_siz = [0] * users_cnt"
   ]
  },
  {
   "cell_type": "code",
   "execution_count": 43,
   "metadata": {},
   "outputs": [],
   "source": [
    "for users in range(1 , users_cnt) : \n",
    "    for items in range(1 , item_cnt) : \n",
    "        if matrix[users][items] > 0 : \n",
    "            global_avg += matrix[users][items]\n",
    "            cnt += 1\n",
    "            item_avg[items] += matrix[users][items]\n",
    "            item_sz[items] += 1\n",
    "            user_avg[users] += matrix[users][items]\n",
    "            user_siz[users] += 1"
   ]
  },
  {
   "cell_type": "code",
   "execution_count": 44,
   "metadata": {},
   "outputs": [],
   "source": [
    "global_avg = global_avg / cnt"
   ]
  },
  {
   "attachments": {},
   "cell_type": "markdown",
   "metadata": {},
   "source": [
    "We are using Item-Item based collaborative filtering for our prediction.\n",
    "Here, we explore the relationship between the pair of items (the user who bought Y, also bought Z). We find the missing rating with the help of the ratings given to the other items by the user.\n",
    "</br> </br>\n",
    "We get the top K similar items for every item which will help us in predicting the rating a user might give for any particular Item."
   ]
  },
  {
   "cell_type": "code",
   "execution_count": 45,
   "metadata": {},
   "outputs": [],
   "source": [
    "def get_sim_items(itemID) : \n",
    "    sim_userID = list()\n",
    "    for item in range(1 , item_sim.shape[0]) : \n",
    "        if item == itemID : \n",
    "            continue\n",
    "        sim_userID.append((item_sim[itemID][item] , item))\n",
    "    sim_userID.sort(key=lambda y: -y[0])\n",
    "    return sim_userID"
   ]
  },
  {
   "cell_type": "code",
   "execution_count": 46,
   "metadata": {},
   "outputs": [],
   "source": [
    "sim_top_k = dict()\n",
    "for i in range(1 , item_cnt) : \n",
    "    sim_top_k[i] = get_sim_items(i)"
   ]
  },
  {
   "attachments": {},
   "cell_type": "markdown",
   "metadata": {},
   "source": [
    "## Prediction using collaborative filtering\n",
    "we use the items (already rated by the user) that are most similar to the missing item to generate rating. We hence try to generate predictions based on the ratings of similar products. We compute this using a formula which computes rating for a particular item using weighted sum of the ratings of the other similar products.\n",
    "\n",
    "$rating(U,Ii) = \\tfrac{\\sum_{j}^{}rating(U,Ij)*S(Ii,Ij)}{\\sum_{j}^{}S(Ii,Ij)}$"
   ]
  },
  {
   "cell_type": "code",
   "execution_count": 47,
   "metadata": {},
   "outputs": [],
   "source": [
    "def predict(user_id , item_id , K) : \n",
    "    sim_items = sim_top_k[item_id]\n",
    "    pred_rating , sum_sim = 0 , 0\n",
    "    taken = 0\n",
    "    for (item_s , itemID) in sim_items :\n",
    "        if item_s < 0 or math.isnan(item_s): \n",
    "            continue\n",
    "        if taken == K :\n",
    "            break\n",
    "        if matrix[user_id][itemID] > 0 : \n",
    "            taken += 1\n",
    "            sum_sim += item_s   \n",
    "            pred_rating += item_s * matrix[user_id][itemID]\n",
    "    if sum_sim == 0 : \n",
    "        return sum_sim\n",
    "    a = pred_rating / sum_sim\n",
    "    return pred_rating / sum_sim"
   ]
  },
  {
   "attachments": {},
   "cell_type": "markdown",
   "metadata": {},
   "source": [
    "#### Combining baseline with collaborative filtering\n",
    "For baseline approach to handle strict and lineant raters we have prediction : </br>\n",
    "$U_{global} + U_{bias} + Item_{bias}$\n",
    "\n",
    "where $U_{global}$ = global average rating </br>\n",
    "$U_{bias}$ = user average - global average </br>\n",
    "$Item_{bias}$ = item average - global average </br>\n",
    "\n",
    "In combination with collaborative filtering we have predicted rating as average of colab filtering rating and baseline approach"
   ]
  },
  {
   "cell_type": "code",
   "execution_count": 48,
   "metadata": {},
   "outputs": [],
   "source": [
    "def predict_baseline(user_id , item_id) : \n",
    "    if user_siz[user_id] == 0 :\n",
    "        user_bias = -global_avg\n",
    "    else : \n",
    "        user_bias = (user_avg[user_id] / user_siz[user_id]) - global_avg\n",
    "    if item_sz[item_id] == 0 : \n",
    "        item_bias = -global_avg\n",
    "    else :\n",
    "        item_bias = (item_avg[item_id] / item_sz[item_id]) - global_avg\n",
    "    return global_avg + user_bias + item_bias"
   ]
  },
  {
   "cell_type": "code",
   "execution_count": 50,
   "metadata": {},
   "outputs": [
    {
     "name": "stdout",
     "output_type": "stream",
     "text": [
      "Time for prediction 235.235813\n"
     ]
    }
   ],
   "source": [
    "start_prediction_time = datetime.now()\n",
    "for user in range(1 , users_cnt) :  \n",
    "    unrated_items = np.where(matrix[user] == 0)[0]\n",
    "    for item in unrated_items:\n",
    "        if item == 0 : \n",
    "            continue\n",
    "        colab_rat = predict(user , item , 5)\n",
    "        matrix[user][item] = colab_rat\n",
    "        colab_baseline[user][item] = (colab_rat + predict_baseline(user, item)) / 2\n",
    "end_prediction_time = datetime.now()\n",
    "print(\"Time for prediction\" , (end_prediction_time - start_prediction_time).total_seconds())"
   ]
  },
  {
   "cell_type": "code",
   "execution_count": 51,
   "metadata": {},
   "outputs": [],
   "source": [
    "def rmse_matrix(mat, test_data):\n",
    "    y_actual = list(test_data.Rating)\n",
    "    y_pred = list()\n",
    "    y_pred_baseline = list()\n",
    "    y_pred_comb = list()\n",
    "    for id , row in test_data.iterrows() : \n",
    "        uid , itid = row['UserID'] , row['ItemID']\n",
    "        y_pred.append(mat[uid][itid])\n",
    "        baseline = predict_baseline(uid , itid)\n",
    "        y_pred_baseline.append(baseline)\n",
    "        y_pred_comb.append((mat[uid][itid] + baseline) / 2)\n",
    "    return (mean_squared_error(y_actual , y_pred) , mean_squared_error(y_actual , y_pred_comb))"
   ]
  },
  {
   "cell_type": "code",
   "execution_count": 52,
   "metadata": {},
   "outputs": [
    {
     "data": {
      "text/plain": [
       "(1.1557051129397395, 0.9212280220671454)"
      ]
     },
     "execution_count": 52,
     "metadata": {},
     "output_type": "execute_result"
    }
   ],
   "source": [
    "rmse_matrix(matrix , rating_test)"
   ]
  },
  {
   "cell_type": "code",
   "execution_count": 53,
   "metadata": {},
   "outputs": [],
   "source": [
    "my_path = root / \"Pickled_files\" / \"pred_matrix_collab\"\n",
    "dbfile = open(my_path, 'wb')     \n",
    "pickle.dump(matrix,dbfile)\n",
    "dbfile.close()"
   ]
  },
  {
   "cell_type": "code",
   "execution_count": 55,
   "metadata": {},
   "outputs": [],
   "source": [
    "my_path = root / \"Pickled_files\" / \"pred_basline\"\n",
    "dbfile = open(my_path, 'wb')     \n",
    "pickle.dump(colab_baseline,dbfile)\n",
    "dbfile.close()"
   ]
  }
 ],
 "metadata": {
  "kernelspec": {
   "display_name": "Python 3 (ipykernel)",
   "language": "python",
   "name": "python3"
  },
  "language_info": {
   "codemirror_mode": {
    "name": "ipython",
    "version": 3
   },
   "file_extension": ".py",
   "mimetype": "text/x-python",
   "name": "python",
   "nbconvert_exporter": "python",
   "pygments_lexer": "ipython3",
   "version": "3.8.8"
  }
 },
 "nbformat": 4,
 "nbformat_minor": 2
}
