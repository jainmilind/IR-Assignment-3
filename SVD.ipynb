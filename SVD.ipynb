{
 "cells": [
  {
   "attachments": {},
   "cell_type": "markdown",
   "metadata": {},
   "source": [
    "## Singular Value Decomposition\n",
    "\n",
    "Singular value decomposition is a very popular linear algebra technique to break down a matrix into the product of a few smaller matrices. we can use SVD to discover relationship between items. A recommender system can be build easily from this.\n",
    "\n",
    "$M = U \\cdot S \\cdot V_{}^{T}$\n",
    "\n",
    "where U is a m x m matrix, S is a diagonal matrix of m x r and V is a r x r matrix.\n",
    "Singular value decomposition gets its name from the diagonal entries on , which are called the singular values of matrix. Based on the percentage of singular values we need to retain, we can do a dimensionality reduction and take top K diagonal elements of S. This is called the reduced SVD. \n",
    "\n",
    "</br>\n",
    "In essence, we are removing several rows on U that the corresponding singular values in S are small, before we use it to compute the similarity. This would likely make the prediction more accurate as those less important features of a item are removed from consideration.\n",
    "</br> </br>\n",
    "Once we have the item-item similarity using the reduced SVD, the method to predict a rating is similar to collaborative filtering where we give importance to top K similar items"
   ]
  },
  {
   "cell_type": "code",
   "execution_count": 1,
   "metadata": {},
   "outputs": [],
   "source": [
    "import pandas as pd\n",
    "import os\n",
    "from pathlib import Path\n",
    "import scipy\n",
    "import pickle\n",
    "import scipy.stats\n",
    "from numpy import *\n",
    "import numpy as np\n",
    "from numpy import linalg as la\n",
    "from sklearn.metrics import mean_squared_error\n",
    "root = Path(\".\")\n",
    "from datetime import datetime"
   ]
  },
  {
   "cell_type": "code",
   "execution_count": 2,
   "metadata": {},
   "outputs": [],
   "source": [
    "class SVD_recommender:\n",
    "    def __init__(self, retained_energy) -> None:\n",
    "        self.read_dataset()\n",
    "        self.train_test_split()\n",
    "        self.generate_user_item_matrix()\n",
    "\n",
    "        self.U, self.S, self.V_T = la.svd(self.matrix)\n",
    "        self.SVD_transform(retained_energy)\n",
    "        self.calculate_item_similarity()\n",
    "        \n",
    "        self.sim_top_k = [None for _ in range(self.item_cnt + 1)]\n",
    "        for i in range(1, self.item_cnt): \n",
    "            self.sim_top_k[i] = self.get_sim_items(i)\n",
    "\n",
    "    def read_dataset(self):\n",
    "        self.rating_data = pd.read_csv('ml-1m/ratings.dat', header=None, sep='::')\n",
    "        self.rating_data.columns = ['UserID', 'ItemID', 'Rating', 'Timestamp']\n",
    "        self.rating_data.drop(columns=['Timestamp'], axis=1, inplace=True)\n",
    "        \n",
    "        self.item_cnt = max(self.rating_data['ItemID']) + 1\n",
    "        self.users_cnt = max(self.rating_data['UserID']) + 1\n",
    "\n",
    "    def train_test_split(self):\n",
    "        self.rating_train = self.rating_data.sample(frac=0.8, random_state=200)\n",
    "        self.rating_test = self.rating_data.drop(self.rating_train.index)\n",
    "\n",
    "    def generate_user_item_matrix(self):\n",
    "        self.matrix = np.zeros(shape=(self.users_cnt, self.item_cnt))\n",
    "        for row in self.rating_train.itertuples():\n",
    "            self.matrix[row.UserID][row.ItemID] = row.Rating\n",
    "\n",
    "    def get_dim(self, S, retained_energy): \n",
    "        sum_sq = sum(S ** 2)\n",
    "        cur_sum, cur_d = 0, 0\n",
    "        for val in S:\n",
    "            if cur_sum >= sum_sq * retained_energy: \n",
    "                return cur_d \n",
    "            cur_sum += val ** 2\n",
    "            cur_d += 1\n",
    "        return cur_d\n",
    "\n",
    "    def similarity(self, A, B):\n",
    "        return (1.0 / (1.0 + la.norm(A - B)))\n",
    "\n",
    "    def SVD_transform(self, retained_energy): \n",
    "        red_dim = self.get_dim(self.S, retained_energy)\n",
    "\n",
    "        transformed_S = np.diag(self.S[:red_dim])\n",
    "        transformed_U = self.U[:, :red_dim]\n",
    "        transformed_V_T = self.V_T[:red_dim, :]\n",
    "\n",
    "        self.SVD_matrix = np.dot(transformed_U, transformed_S)\n",
    "        self.SVD_matrix = np.dot(self.SVD_matrix, transformed_V_T)\n",
    "    \n",
    "    def calculate_item_similarity(self):\n",
    "        self.item_similarity = np.zeros(shape=(self.item_cnt, self.item_cnt))\n",
    "        transformed_item_matrix = list()\n",
    "        for items in range(1, self.item_cnt): \n",
    "            transformed_item_matrix.append(self.SVD_matrix[items, :].T) \n",
    "\n",
    "        for item1 in range(1, self.item_cnt): \n",
    "            for item2 in range(item1 + 1, self.item_cnt): \n",
    "                sim = self.similarity(transformed_item_matrix[item1 - 1], transformed_item_matrix[item2 - 1])\n",
    "                \n",
    "                self.item_similarity[item1][item2] = self.item_similarity[item2][item1] = sim\n",
    "    \n",
    "    def get_sim_items(self, itemID): \n",
    "        sim_userID = list()\n",
    "        for item in range(1, self.item_similarity.shape[0]): \n",
    "            if item == itemID: \n",
    "                continue\n",
    "            sim_userID.append((self.item_similarity[itemID][item], item))\n",
    "        sim_userID.sort(key=lambda y: -y[0])\n",
    "        return sim_userID\n",
    "\n",
    "    def predict_SVD(self, userID, itemID, top_K):\n",
    "        similarity_sum = 0 \n",
    "        rating_sum, cnt = 0, 0\n",
    "        \n",
    "        for (item_s, items) in self.sim_top_k[itemID]:\n",
    "            if cnt == top_K: \n",
    "                break\n",
    "            if self.matrix[userID][items] == 0: \n",
    "                continue\n",
    "            similarity_sum += item_s\n",
    "            rating_sum += item_s * self.matrix[userID][items]\n",
    "            cnt += 1\n",
    "        if similarity_sum == 0:\n",
    "            return 0\n",
    "            \n",
    "        return (rating_sum / similarity_sum)\n",
    "    \n",
    "    def get_top_k(self, k=3):\n",
    "        start_prediction_time = datetime.now()\n",
    "        for users in range(1, self.users_cnt): \n",
    "            unrated_items = np.where(self.matrix[users] == 0)[0]\n",
    "            for items in unrated_items:\n",
    "                if items == 0:\n",
    "                    continue\n",
    "                assert(self.matrix[users][items] == 0)\n",
    "                self.matrix[users][items] = self.predict_SVD(users, items, k)\n",
    "        end_prediction_time = datetime.now()\n",
    "        print(\"Time for prediction\" , (end_prediction_time - start_prediction_time).total_seconds())\n",
    "\n",
    "\n",
    "    def get_rmse(self):\n",
    "        y_actual = list(self.rating_test.Rating)\n",
    "        y_pred = list()\n",
    "        for id, row in self.rating_test.iterrows(): \n",
    "            uid, itid = row['UserID'], row['ItemID']\n",
    "            y_pred.append(self.matrix[uid][itid])\n",
    "        return mean_squared_error(y_actual, y_pred) ** .5"
   ]
  },
  {
   "cell_type": "code",
   "execution_count": 3,
   "metadata": {},
   "outputs": [
    {
     "name": "stderr",
     "output_type": "stream",
     "text": [
      "C:\\Users\\ashwi\\AppData\\Local\\Temp\\ipykernel_3088\\775645394.py:16: ParserWarning: Falling back to the 'python' engine because the 'c' engine does not support regex separators (separators > 1 char and different from '\\s+' are interpreted as regex); you can avoid this warning by specifying engine='python'.\n",
      "  self.rating_data = pd.read_csv('ml-1m/ratings.dat', header=None, sep='::')\n"
     ]
    },
    {
     "name": "stdout",
     "output_type": "stream",
     "text": [
      "Time for prediction 247.880419\n"
     ]
    },
    {
     "data": {
      "text/plain": [
       "1.1767304502722231"
      ]
     },
     "execution_count": 3,
     "metadata": {},
     "output_type": "execute_result"
    }
   ],
   "source": [
    "s_recom = SVD_recommender(0.9)\n",
    "s_recom.get_top_k()\n",
    "s_recom.get_rmse()"
   ]
  },
  {
   "cell_type": "code",
   "execution_count": 4,
   "metadata": {},
   "outputs": [],
   "source": [
    "my_path = root / \"Pickled_files\" / \"SVD90\"\n",
    "dbfile = open(my_path, 'wb')     \n",
    "pickle.dump(s_recom.matrix,dbfile)\n",
    "dbfile.close()"
   ]
  },
  {
   "cell_type": "code",
   "execution_count": 5,
   "metadata": {},
   "outputs": [
    {
     "name": "stderr",
     "output_type": "stream",
     "text": [
      "C:\\Users\\ashwi\\AppData\\Local\\Temp\\ipykernel_3088\\775645394.py:16: ParserWarning: Falling back to the 'python' engine because the 'c' engine does not support regex separators (separators > 1 char and different from '\\s+' are interpreted as regex); you can avoid this warning by specifying engine='python'.\n",
      "  self.rating_data = pd.read_csv('ml-1m/ratings.dat', header=None, sep='::')\n"
     ]
    },
    {
     "name": "stdout",
     "output_type": "stream",
     "text": [
      "Time for prediction 233.878857\n"
     ]
    },
    {
     "data": {
      "text/plain": [
       "1.188154215448053"
      ]
     },
     "execution_count": 5,
     "metadata": {},
     "output_type": "execute_result"
    }
   ],
   "source": [
    "s_recom = SVD_recommender(1.0)\n",
    "s_recom.get_top_k()\n",
    "s_recom.get_rmse()"
   ]
  },
  {
   "cell_type": "code",
   "execution_count": 6,
   "metadata": {},
   "outputs": [],
   "source": [
    "my_path = root / \"Pickled_files\" / \"SVD\"\n",
    "dbfile = open(my_path, 'wb')     \n",
    "pickle.dump(s_recom.matrix,dbfile)\n",
    "dbfile.close()"
   ]
  }
 ],
 "metadata": {
  "kernelspec": {
   "display_name": "Python 3 (ipykernel)",
   "language": "python",
   "name": "python3"
  },
  "language_info": {
   "codemirror_mode": {
    "name": "ipython",
    "version": 3
   },
   "file_extension": ".py",
   "mimetype": "text/x-python",
   "name": "python",
   "nbconvert_exporter": "python",
   "pygments_lexer": "ipython3",
   "version": "3.8.8"
  }
 },
 "nbformat": 4,
 "nbformat_minor": 2
}
