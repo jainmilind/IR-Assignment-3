{
 "cells": [
  {
   "attachments": {},
   "cell_type": "markdown",
   "id": "8da7e183",
   "metadata": {},
   "source": [
    "### Evaluation Metrics"
   ]
  },
  {
   "cell_type": "code",
   "execution_count": 1,
   "id": "6349b71a",
   "metadata": {},
   "outputs": [],
   "source": [
    "import pandas as pd\n",
    "import os\n",
    "from pathlib import Path\n",
    "import scipy\n",
    "import pickle\n",
    "import scipy.stats\n",
    "from numpy import *\n",
    "import numpy as np\n",
    "from numpy import linalg as la\n",
    "from sklearn.metrics import mean_squared_error\n",
    "from scipy.stats import pearsonr\n",
    "root = Path(\".\")"
   ]
  },
  {
   "cell_type": "code",
   "execution_count": 2,
   "id": "ff6e1411",
   "metadata": {},
   "outputs": [
    {
     "name": "stderr",
     "output_type": "stream",
     "text": [
      "C:\\Users\\ashwi\\AppData\\Local\\Temp\\ipykernel_2968\\1128856203.py:1: ParserWarning: Falling back to the 'python' engine because the 'c' engine does not support regex separators (separators > 1 char and different from '\\s+' are interpreted as regex); you can avoid this warning by specifying engine='python'.\n",
      "  rating_data = pd.read_csv('ml-1m/ratings.dat', header=None, sep='::')\n"
     ]
    }
   ],
   "source": [
    "rating_data = pd.read_csv('ml-1m/ratings.dat', header=None, sep='::')\n",
    "rating_data.columns = ['UserID', 'ItemID', 'Rating', 'Timestamp']\n",
    "rating_data.drop(columns=['Timestamp'], axis=1, inplace=True)"
   ]
  },
  {
   "cell_type": "code",
   "execution_count": 3,
   "id": "bfbb86ac",
   "metadata": {},
   "outputs": [
    {
     "data": {
      "text/html": [
       "<div>\n",
       "<style scoped>\n",
       "    .dataframe tbody tr th:only-of-type {\n",
       "        vertical-align: middle;\n",
       "    }\n",
       "\n",
       "    .dataframe tbody tr th {\n",
       "        vertical-align: top;\n",
       "    }\n",
       "\n",
       "    .dataframe thead th {\n",
       "        text-align: right;\n",
       "    }\n",
       "</style>\n",
       "<table border=\"1\" class=\"dataframe\">\n",
       "  <thead>\n",
       "    <tr style=\"text-align: right;\">\n",
       "      <th></th>\n",
       "      <th>UserID</th>\n",
       "      <th>ItemID</th>\n",
       "      <th>Rating</th>\n",
       "    </tr>\n",
       "  </thead>\n",
       "  <tbody>\n",
       "    <tr>\n",
       "      <th>0</th>\n",
       "      <td>1</td>\n",
       "      <td>1193</td>\n",
       "      <td>5</td>\n",
       "    </tr>\n",
       "    <tr>\n",
       "      <th>1</th>\n",
       "      <td>1</td>\n",
       "      <td>661</td>\n",
       "      <td>3</td>\n",
       "    </tr>\n",
       "    <tr>\n",
       "      <th>2</th>\n",
       "      <td>1</td>\n",
       "      <td>914</td>\n",
       "      <td>3</td>\n",
       "    </tr>\n",
       "    <tr>\n",
       "      <th>3</th>\n",
       "      <td>1</td>\n",
       "      <td>3408</td>\n",
       "      <td>4</td>\n",
       "    </tr>\n",
       "    <tr>\n",
       "      <th>4</th>\n",
       "      <td>1</td>\n",
       "      <td>2355</td>\n",
       "      <td>5</td>\n",
       "    </tr>\n",
       "    <tr>\n",
       "      <th>...</th>\n",
       "      <td>...</td>\n",
       "      <td>...</td>\n",
       "      <td>...</td>\n",
       "    </tr>\n",
       "    <tr>\n",
       "      <th>1000204</th>\n",
       "      <td>6040</td>\n",
       "      <td>1091</td>\n",
       "      <td>1</td>\n",
       "    </tr>\n",
       "    <tr>\n",
       "      <th>1000205</th>\n",
       "      <td>6040</td>\n",
       "      <td>1094</td>\n",
       "      <td>5</td>\n",
       "    </tr>\n",
       "    <tr>\n",
       "      <th>1000206</th>\n",
       "      <td>6040</td>\n",
       "      <td>562</td>\n",
       "      <td>5</td>\n",
       "    </tr>\n",
       "    <tr>\n",
       "      <th>1000207</th>\n",
       "      <td>6040</td>\n",
       "      <td>1096</td>\n",
       "      <td>4</td>\n",
       "    </tr>\n",
       "    <tr>\n",
       "      <th>1000208</th>\n",
       "      <td>6040</td>\n",
       "      <td>1097</td>\n",
       "      <td>4</td>\n",
       "    </tr>\n",
       "  </tbody>\n",
       "</table>\n",
       "<p>1000209 rows × 3 columns</p>\n",
       "</div>"
      ],
      "text/plain": [
       "         UserID  ItemID  Rating\n",
       "0             1    1193       5\n",
       "1             1     661       3\n",
       "2             1     914       3\n",
       "3             1    3408       4\n",
       "4             1    2355       5\n",
       "...         ...     ...     ...\n",
       "1000204    6040    1091       1\n",
       "1000205    6040    1094       5\n",
       "1000206    6040     562       5\n",
       "1000207    6040    1096       4\n",
       "1000208    6040    1097       4\n",
       "\n",
       "[1000209 rows x 3 columns]"
      ]
     },
     "execution_count": 3,
     "metadata": {},
     "output_type": "execute_result"
    }
   ],
   "source": [
    "rating_data"
   ]
  },
  {
   "cell_type": "code",
   "execution_count": 4,
   "id": "4dc20c26",
   "metadata": {},
   "outputs": [
    {
     "data": {
      "text/plain": [
       "(3953, 6041)"
      ]
     },
     "execution_count": 4,
     "metadata": {},
     "output_type": "execute_result"
    }
   ],
   "source": [
    "item_cnt = max(rating_data['ItemID']) + 1\n",
    "users_cnt = max(rating_data['UserID']) + 1\n",
    "item_cnt, users_cnt"
   ]
  },
  {
   "cell_type": "code",
   "execution_count": 5,
   "id": "61e16f8d",
   "metadata": {},
   "outputs": [],
   "source": [
    "rating_train = rating_data.sample(frac=0.8, random_state=200)\n",
    "rating_test = rating_data.drop(rating_train.index)"
   ]
  },
  {
   "cell_type": "code",
   "execution_count": 6,
   "id": "ef658629",
   "metadata": {},
   "outputs": [
    {
     "data": {
      "text/html": [
       "<div>\n",
       "<style scoped>\n",
       "    .dataframe tbody tr th:only-of-type {\n",
       "        vertical-align: middle;\n",
       "    }\n",
       "\n",
       "    .dataframe tbody tr th {\n",
       "        vertical-align: top;\n",
       "    }\n",
       "\n",
       "    .dataframe thead th {\n",
       "        text-align: right;\n",
       "    }\n",
       "</style>\n",
       "<table border=\"1\" class=\"dataframe\">\n",
       "  <thead>\n",
       "    <tr style=\"text-align: right;\">\n",
       "      <th></th>\n",
       "      <th>UserID</th>\n",
       "      <th>ItemID</th>\n",
       "      <th>Rating</th>\n",
       "    </tr>\n",
       "  </thead>\n",
       "  <tbody>\n",
       "    <tr>\n",
       "      <th>0</th>\n",
       "      <td>1</td>\n",
       "      <td>1193</td>\n",
       "      <td>5</td>\n",
       "    </tr>\n",
       "    <tr>\n",
       "      <th>2</th>\n",
       "      <td>1</td>\n",
       "      <td>914</td>\n",
       "      <td>3</td>\n",
       "    </tr>\n",
       "    <tr>\n",
       "      <th>8</th>\n",
       "      <td>1</td>\n",
       "      <td>594</td>\n",
       "      <td>4</td>\n",
       "    </tr>\n",
       "    <tr>\n",
       "      <th>9</th>\n",
       "      <td>1</td>\n",
       "      <td>919</td>\n",
       "      <td>4</td>\n",
       "    </tr>\n",
       "    <tr>\n",
       "      <th>13</th>\n",
       "      <td>1</td>\n",
       "      <td>2918</td>\n",
       "      <td>4</td>\n",
       "    </tr>\n",
       "    <tr>\n",
       "      <th>...</th>\n",
       "      <td>...</td>\n",
       "      <td>...</td>\n",
       "      <td>...</td>\n",
       "    </tr>\n",
       "    <tr>\n",
       "      <th>1000201</th>\n",
       "      <td>6040</td>\n",
       "      <td>1080</td>\n",
       "      <td>4</td>\n",
       "    </tr>\n",
       "    <tr>\n",
       "      <th>1000202</th>\n",
       "      <td>6040</td>\n",
       "      <td>1089</td>\n",
       "      <td>4</td>\n",
       "    </tr>\n",
       "    <tr>\n",
       "      <th>1000204</th>\n",
       "      <td>6040</td>\n",
       "      <td>1091</td>\n",
       "      <td>1</td>\n",
       "    </tr>\n",
       "    <tr>\n",
       "      <th>1000207</th>\n",
       "      <td>6040</td>\n",
       "      <td>1096</td>\n",
       "      <td>4</td>\n",
       "    </tr>\n",
       "    <tr>\n",
       "      <th>1000208</th>\n",
       "      <td>6040</td>\n",
       "      <td>1097</td>\n",
       "      <td>4</td>\n",
       "    </tr>\n",
       "  </tbody>\n",
       "</table>\n",
       "<p>200042 rows × 3 columns</p>\n",
       "</div>"
      ],
      "text/plain": [
       "         UserID  ItemID  Rating\n",
       "0             1    1193       5\n",
       "2             1     914       3\n",
       "8             1     594       4\n",
       "9             1     919       4\n",
       "13            1    2918       4\n",
       "...         ...     ...     ...\n",
       "1000201    6040    1080       4\n",
       "1000202    6040    1089       4\n",
       "1000204    6040    1091       1\n",
       "1000207    6040    1096       4\n",
       "1000208    6040    1097       4\n",
       "\n",
       "[200042 rows x 3 columns]"
      ]
     },
     "execution_count": 6,
     "metadata": {},
     "output_type": "execute_result"
    }
   ],
   "source": [
    "rating_test"
   ]
  },
  {
   "cell_type": "code",
   "execution_count": 7,
   "id": "a3666eb8",
   "metadata": {},
   "outputs": [
    {
     "data": {
      "text/plain": [
       "(6041, 3953)"
      ]
     },
     "execution_count": 7,
     "metadata": {},
     "output_type": "execute_result"
    }
   ],
   "source": [
    "matrix = np.zeros(shape=(users_cnt, item_cnt))\n",
    "matrix.shape"
   ]
  },
  {
   "cell_type": "code",
   "execution_count": 8,
   "id": "2780a7a7",
   "metadata": {},
   "outputs": [
    {
     "data": {
      "text/plain": [
       "array([[0., 0., 0., ..., 0., 0., 0.],\n",
       "       [0., 5., 0., ..., 0., 0., 0.],\n",
       "       [0., 0., 0., ..., 0., 0., 0.],\n",
       "       ...,\n",
       "       [0., 0., 0., ..., 0., 0., 0.],\n",
       "       [0., 0., 0., ..., 0., 0., 0.],\n",
       "       [0., 3., 0., ..., 0., 0., 0.]])"
      ]
     },
     "execution_count": 8,
     "metadata": {},
     "output_type": "execute_result"
    }
   ],
   "source": [
    "for row in rating_data.itertuples():\n",
    "    matrix[row.UserID][row.ItemID] = row.Rating\n",
    "actual_matrix = matrix\n",
    "actual_matrix"
   ]
  },
  {
   "attachments": {},
   "cell_type": "markdown",
   "id": "4abdd388",
   "metadata": {},
   "source": [
    "### Precision at top K\n",
    "Precision at k is the propotion of recommended items in the top k that are relevant"
   ]
  },
  {
   "cell_type": "code",
   "execution_count": 9,
   "id": "52fe2da2",
   "metadata": {},
   "outputs": [],
   "source": [
    "def topKPrecision(actual_mat,pred_mat,test_data,K):\n",
    "    pred_ui_data = dict()\n",
    "    for row in test_data.itertuples():\n",
    "        if pred_ui_data.get(row.UserID) == None:\n",
    "            pred_ui_data[row.UserID] = [(row.ItemID,pred_mat[row.UserID,row.ItemID])]\n",
    "        else:\n",
    "            pred_ui_data[row.UserID].append((row.ItemID,pred_mat[row.UserID,row.ItemID]))\n",
    "    cnt = 0\n",
    "    tot = 0\n",
    "    for user in pred_ui_data.keys():\n",
    "        pred_ui_data[user] = sorted(pred_ui_data[user],key=lambda x: x[-1],reverse = True)\n",
    "        if(len(pred_ui_data[user]) >= K):\n",
    "            cnt += 1\n",
    "            tp = 0\n",
    "            for item,pr in pred_ui_data[user][:K]:\n",
    "                if actual_mat[user,item] >= 3.5:\n",
    "                    tp += 1\n",
    "            tot += tp/K\n",
    "    if cnt > 0:\n",
    "        return tot/cnt\n",
    "    else:\n",
    "        print(\"Error : very large K\")"
   ]
  },
  {
   "attachments": {},
   "cell_type": "markdown",
   "id": "078aeeca",
   "metadata": {},
   "source": [
    "### Spearman Coefficient\n",
    "Instead of calculating correlation over the raw item score,  we calculate it over the rank of the items ordered in the set. It the correlation of the ranks of items between two different sets."
   ]
  },
  {
   "cell_type": "code",
   "execution_count": 10,
   "id": "907187b6",
   "metadata": {},
   "outputs": [],
   "source": [
    "def spearmanCoeff(actual_mat,pred_mat,test_data):\n",
    "    pred_ui_data = dict()\n",
    "    actual_ui_data = dict()\n",
    "    for row in test_data.itertuples():\n",
    "        if pred_ui_data.get(row.UserID) == None:\n",
    "            pred_ui_data[row.UserID] = [(row.ItemID,pred_mat[row.UserID,row.ItemID]),]\n",
    "            actual_ui_data[row.UserID] = [(row.ItemID,actual_mat[row.UserID,row.ItemID]),]\n",
    "        else:\n",
    "            pred_ui_data[row.UserID].append((row.ItemID,pred_mat[row.UserID,row.ItemID]))\n",
    "            actual_ui_data[row.UserID].append((row.ItemID,actual_mat[row.UserID,row.ItemID]))\n",
    "    \n",
    "    cnt = 0\n",
    "    tot = 0\n",
    "    for user in pred_ui_data.keys():\n",
    "        pred_ui_data[user] = sorted(pred_ui_data[user],key=lambda x: x[-1],reverse = True)\n",
    "        actual_ui_data[user] = sorted(actual_ui_data[user],key=lambda x: x[-1],reverse = True)\n",
    "        \n",
    "        pred_ranking = dict()\n",
    "        actual_ranking = dict()\n",
    "        for i in range(len(pred_ui_data[user])):\n",
    "            pred_ranking[pred_ui_data[user][i][0]] = i+1\n",
    "            actual_ranking[actual_ui_data[user][i][0]] = i+1\n",
    "        x = []\n",
    "        y = []\n",
    "        for key in pred_ranking.keys():\n",
    "            x.append(pred_ranking[key])\n",
    "            y.append(actual_ranking[key])\n",
    "        if len(x) > 1 and len(y) > 1 :\n",
    "            cnt += 1\n",
    "            tot += pearsonr(x, y)[0]\n",
    "    if cnt > 0:\n",
    "        return tot/cnt\n",
    "    else:\n",
    "        print(\"Error : ....\")"
   ]
  },
  {
   "cell_type": "code",
   "execution_count": 192,
   "id": "10899f55",
   "metadata": {},
   "outputs": [],
   "source": [
    "my_path = root / \"Pickled_files\" / \"pred_matrix_collab\"\n",
    "dbfile = open(my_path, 'rb')     \n",
    "pred_matrix = pickle.load(dbfile)\n",
    "dbfile.close()"
   ]
  },
  {
   "cell_type": "code",
   "execution_count": 193,
   "id": "f50a85e4",
   "metadata": {},
   "outputs": [
    {
     "data": {
      "text/plain": [
       "array([[0.        , 0.        , 0.        , ..., 0.        , 0.        ,\n",
       "        0.        ],\n",
       "       [0.        , 4.8205123 , 4.39766519, ..., 4.70378116, 4.73979053,\n",
       "        4.68459535],\n",
       "       [0.        , 4.13735754, 3.        , ..., 3.27905294, 3.47972922,\n",
       "        3.34977903],\n",
       "       ...,\n",
       "       [0.        , 4.60885315, 4.16276878, ..., 4.31833435, 4.38061175,\n",
       "        4.28871652],\n",
       "       [0.        , 3.51136871, 3.41617474, ..., 3.61797934, 3.6076365 ,\n",
       "        3.56541669],\n",
       "       [0.        , 3.        , 3.56061577, ..., 3.52780734, 3.44930387,\n",
       "        3.49752001]])"
      ]
     },
     "execution_count": 193,
     "metadata": {},
     "output_type": "execute_result"
    }
   ],
   "source": [
    "pred_matrix"
   ]
  },
  {
   "cell_type": "code",
   "execution_count": 194,
   "id": "1c1a9ed1",
   "metadata": {},
   "outputs": [
    {
     "data": {
      "text/plain": [
       "array([[0., 0., 0., ..., 0., 0., 0.],\n",
       "       [0., 5., 0., ..., 0., 0., 0.],\n",
       "       [0., 0., 0., ..., 0., 0., 0.],\n",
       "       ...,\n",
       "       [0., 0., 0., ..., 0., 0., 0.],\n",
       "       [0., 0., 0., ..., 0., 0., 0.],\n",
       "       [0., 3., 0., ..., 0., 0., 0.]])"
      ]
     },
     "execution_count": 194,
     "metadata": {},
     "output_type": "execute_result"
    }
   ],
   "source": [
    "actual_matrix"
   ]
  },
  {
   "cell_type": "code",
   "execution_count": 195,
   "id": "d7f693a9",
   "metadata": {},
   "outputs": [
    {
     "data": {
      "text/plain": [
       "0.6423736565286998"
      ]
     },
     "execution_count": 195,
     "metadata": {},
     "output_type": "execute_result"
    }
   ],
   "source": [
    "topKPrecision(actual_matrix,pred_matrix,rating_test,10)"
   ]
  },
  {
   "cell_type": "code",
   "execution_count": 196,
   "id": "00cce1e1",
   "metadata": {},
   "outputs": [
    {
     "data": {
      "text/plain": [
       "0.042090353730770746"
      ]
     },
     "execution_count": 196,
     "metadata": {},
     "output_type": "execute_result"
    }
   ],
   "source": [
    "spearmanCoeff(actual_matrix,pred_matrix,rating_test)"
   ]
  },
  {
   "cell_type": "code",
   "execution_count": 197,
   "id": "f0bae6b3",
   "metadata": {},
   "outputs": [],
   "source": [
    "my_path = root / \"Pickled_files\" / \"SVD\"\n",
    "dbfile = open(my_path, 'rb')     \n",
    "pred_matrix = pickle.load(dbfile)\n",
    "dbfile.close()"
   ]
  },
  {
   "cell_type": "code",
   "execution_count": 198,
   "id": "77bc10df",
   "metadata": {},
   "outputs": [
    {
     "data": {
      "text/plain": [
       "array([[0.        , 0.        , 0.        , ..., 0.        , 0.        ,\n",
       "        0.        ],\n",
       "       [0.        , 4.34090659, 4.00957505, ..., 3.75676603, 3.7762496 ,\n",
       "        3.76891274],\n",
       "       [0.        , 2.67049888, 3.32927022, ..., 2.73296471, 2.9015349 ,\n",
       "        2.76117535],\n",
       "       ...,\n",
       "       [0.        , 3.3217707 , 3.33221987, ..., 3.03125969, 3.09160169,\n",
       "        3.03405526],\n",
       "       [0.        , 2.9996204 , 3.3182429 , ..., 3.79183653, 3.29302465,\n",
       "        3.82776389],\n",
       "       [0.        , 3.        , 2.97345656, ..., 3.51274296, 3.05631152,\n",
       "        3.42150004]])"
      ]
     },
     "execution_count": 198,
     "metadata": {},
     "output_type": "execute_result"
    }
   ],
   "source": [
    "pred_matrix"
   ]
  },
  {
   "cell_type": "code",
   "execution_count": 199,
   "id": "820eb2ae",
   "metadata": {},
   "outputs": [
    {
     "data": {
      "text/plain": [
       "0.6107935056025595"
      ]
     },
     "execution_count": 199,
     "metadata": {},
     "output_type": "execute_result"
    }
   ],
   "source": [
    "topKPrecision(actual_matrix,pred_matrix,rating_test,10)"
   ]
  },
  {
   "cell_type": "code",
   "execution_count": 200,
   "id": "41d98ae7",
   "metadata": {},
   "outputs": [
    {
     "data": {
      "text/plain": [
       "0.007064679196030974"
      ]
     },
     "execution_count": 200,
     "metadata": {},
     "output_type": "execute_result"
    }
   ],
   "source": [
    "spearmanCoeff(actual_matrix,pred_matrix,rating_test)"
   ]
  },
  {
   "cell_type": "code",
   "execution_count": 201,
   "id": "e498c891",
   "metadata": {},
   "outputs": [],
   "source": [
    "my_path = root / \"Pickled_files\" / \"SVD90\"\n",
    "dbfile = open(my_path, 'rb')     \n",
    "pred_matrix = pickle.load(dbfile)\n",
    "dbfile.close()"
   ]
  },
  {
   "cell_type": "code",
   "execution_count": 202,
   "id": "0775c20b",
   "metadata": {},
   "outputs": [
    {
     "data": {
      "text/plain": [
       "0.6108621083924074"
      ]
     },
     "execution_count": 202,
     "metadata": {},
     "output_type": "execute_result"
    }
   ],
   "source": [
    "topKPrecision(actual_matrix,pred_matrix,rating_test,10)"
   ]
  },
  {
   "cell_type": "code",
   "execution_count": 203,
   "id": "2a66cbdd",
   "metadata": {},
   "outputs": [
    {
     "data": {
      "text/plain": [
       "0.009335124141536059"
      ]
     },
     "execution_count": 203,
     "metadata": {},
     "output_type": "execute_result"
    }
   ],
   "source": [
    "spearmanCoeff(actual_matrix,pred_matrix,rating_test)"
   ]
  },
  {
   "cell_type": "code",
   "execution_count": 11,
   "id": "966acc16",
   "metadata": {},
   "outputs": [],
   "source": [
    "my_path = root / \"Pickled_files\" / \"CUR90\"\n",
    "dbfile = open(my_path, 'rb')     \n",
    "pred_matrix = pickle.load(dbfile)\n",
    "dbfile.close()"
   ]
  },
  {
   "cell_type": "code",
   "execution_count": 12,
   "id": "59ae448f",
   "metadata": {},
   "outputs": [
    {
     "data": {
      "text/plain": [
       "0.6075691744797624"
      ]
     },
     "execution_count": 12,
     "metadata": {},
     "output_type": "execute_result"
    }
   ],
   "source": [
    "topKPrecision(actual_matrix,pred_matrix,rating_test,10)"
   ]
  },
  {
   "cell_type": "code",
   "execution_count": 13,
   "id": "74926aca",
   "metadata": {},
   "outputs": [
    {
     "data": {
      "text/plain": [
       "0.0010459932683929657"
      ]
     },
     "execution_count": 13,
     "metadata": {},
     "output_type": "execute_result"
    }
   ],
   "source": [
    "spearmanCoeff(actual_matrix,pred_matrix,rating_test)"
   ]
  },
  {
   "cell_type": "code",
   "execution_count": 14,
   "id": "20c7d51a",
   "metadata": {},
   "outputs": [],
   "source": [
    "my_path = root / \"Pickled_files\" / \"CUR100\"\n",
    "dbfile = open(my_path, 'rb')     \n",
    "pred_matrix = pickle.load(dbfile)\n",
    "dbfile.close()"
   ]
  },
  {
   "cell_type": "code",
   "execution_count": 15,
   "id": "efd72b21",
   "metadata": {},
   "outputs": [
    {
     "data": {
      "text/plain": [
       "0.6119826206265719"
      ]
     },
     "execution_count": 15,
     "metadata": {},
     "output_type": "execute_result"
    }
   ],
   "source": [
    "topKPrecision(actual_matrix,pred_matrix,rating_test,10)"
   ]
  },
  {
   "cell_type": "code",
   "execution_count": 16,
   "id": "df14b78b",
   "metadata": {},
   "outputs": [
    {
     "data": {
      "text/plain": [
       "0.0033905042404267717"
      ]
     },
     "execution_count": 16,
     "metadata": {},
     "output_type": "execute_result"
    }
   ],
   "source": [
    "spearmanCoeff(actual_matrix,pred_matrix,rating_test)"
   ]
  },
  {
   "attachments": {},
   "cell_type": "markdown",
   "id": "64334be8",
   "metadata": {},
   "source": [
    "### Tabulated Summary\n",
    "| Recommender System Technique | RMSE |Precision on top K|Spearman Correlation|Prediction Time|\n",
    "|-----|--------|------|------|------|\n",
    "|Collaborative Filtering|1.1558117182207637|0.6423736565286998|0.042090353730770746|------|\n",
    "|Collaborative Filtering with baseline|0.9211736239738006|-------|------|------|\n",
    "|SVD|1.1876982325501928|0.6107935056025595|0.007064679196030974|------|\n",
    "|SVD with 90% energy|1.1767304502722231|0.6108621083924074|0.009335124141536059|------|\n",
    "|CUR|1.1857676139882922|0.6119826206265719|0.0033905042404267717|------|\n",
    "|CUR with 90% energy|1.1729375072496155|0.6075691744797624|0.0010459932683929657|------|"
   ]
  }
 ],
 "metadata": {
  "kernelspec": {
   "display_name": "Python 3 (ipykernel)",
   "language": "python",
   "name": "python3"
  },
  "language_info": {
   "codemirror_mode": {
    "name": "ipython",
    "version": 3
   },
   "file_extension": ".py",
   "mimetype": "text/x-python",
   "name": "python",
   "nbconvert_exporter": "python",
   "pygments_lexer": "ipython3",
   "version": "3.8.8"
  }
 },
 "nbformat": 4,
 "nbformat_minor": 5
}
